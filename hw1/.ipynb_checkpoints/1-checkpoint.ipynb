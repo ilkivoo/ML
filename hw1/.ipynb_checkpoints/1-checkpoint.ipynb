{
 "cells": [
  {
   "cell_type": "code",
   "execution_count": 521,
   "metadata": {},
   "outputs": [],
   "source": [
    "import numpy as np\n",
    "class Point:\n",
    "    def __init__(self, label, coordinates):\n",
    "        self.label = label\n",
    "        self.coordinates = np.array(coordinates)\n",
    "        \n",
    "    def getDist(self, cur_point):\n",
    "        return np.linalg.norm(cur_point.coordinates - self.coordinates)"
   ]
  },
  {
   "cell_type": "code",
   "execution_count": 522,
   "metadata": {},
   "outputs": [],
   "source": [
    "import csv\n",
    "def getPoints(file_name):\n",
    "    with open (file_name, 'r') as file_obj:\n",
    "        points = []\n",
    "        reader = csv.DictReader(file_obj, delimiter=',')\n",
    "        for row in reader:\n",
    "            coordinates = []\n",
    "            label = row['label']\n",
    "            for col in reader.fieldnames:\n",
    "                if (col != 'label'):\n",
    "                    coordinates.append(float(row[col]))\n",
    "            points.append(Point(label, coordinates))\n",
    "    return points"
   ]
  },
  {
   "cell_type": "code",
   "execution_count": 528,
   "metadata": {},
   "outputs": [],
   "source": [
    "def get_neighbors(points, maxK):\n",
    "    print(\"he in\")\n",
    "    ans = {}\n",
    "    for point in points:\n",
    "        dist = [0] * len(points)\n",
    "        for i in range(len(points)):\n",
    "            dist[i] = points[i].getDist(point)    \n",
    "        idx = np.array(dist).argsort()[1:maxK+1]\n",
    "        neighbors = []\n",
    "        for i in idx:\n",
    "            neighbors.append(points[i])\n",
    "        ans[point] = neighbors\n",
    "    print(\"he out\")\n",
    "    return ans"
   ]
  },
  {
   "cell_type": "code",
   "execution_count": 529,
   "metadata": {},
   "outputs": [],
   "source": [
    "def knn(points, k, point, neighbors):\n",
    "    labels = {}\n",
    "    labels[1] = 0;\n",
    "    max_count = 0;\n",
    "    label_with_max_cout = 0;\n",
    "    cur_neighbors = neighbors[point][:k]\n",
    "    for neighbor in cur_neighbors:\n",
    "        if (neighbor.label not in labels):\n",
    "            labels[neighbor.label] = 1\n",
    "        else:\n",
    "            labels[neighbor.label] += 1\n",
    "        if (labels[neighbor.label] > max_count):\n",
    "            max_count = labels[neighbor.label]\n",
    "            label_with_max_cout = neighbor.label\n",
    "    return label_with_max_cout"
   ]
  },
  {
   "cell_type": "code",
   "execution_count": 530,
   "metadata": {},
   "outputs": [],
   "source": [
    "def leave_one_out_error(file_name):\n",
    "    print(file_name)\n",
    "    points = getPoints(file_name)\n",
    "    neighbors = get_neighbors(points, 10)\n",
    "    print(knn(points, 10, points[2], neighbors))\n",
    "    for k in range(10, 0, -1):\n",
    "        count = 0\n",
    "        for point in points:\n",
    "            guess = knn(points, k, point, neighbors)\n",
    "            if (guess != point.label):\n",
    "                count += 1\n",
    "        print(str(k) + ': loo=' + str(count*1.0/len(points)))"
   ]
  },
  {
   "cell_type": "code",
   "execution_count": 531,
   "metadata": {},
   "outputs": [
    {
     "name": "stdout",
     "output_type": "stream",
     "text": [
      "datasets/cancer.csv\n",
      "he in\n",
      "he out\n",
      "M\n",
      "10: loo=0.06678383128295255\n",
      "9: loo=0.06678383128295255\n",
      "8: loo=0.06854130052724078\n",
      "7: loo=0.06854130052724078\n",
      "6: loo=0.06678383128295255\n",
      "5: loo=0.06678383128295255\n",
      "4: loo=0.07381370826010544\n",
      "3: loo=0.07381370826010544\n",
      "2: loo=0.0843585237258348\n",
      "1: loo=0.0843585237258348\n"
     ]
    }
   ],
   "source": [
    "leave_one_out_error('datasets/cancer.csv')"
   ]
  },
  {
   "cell_type": "code",
   "execution_count": null,
   "metadata": {
    "scrolled": true
   },
   "outputs": [
    {
     "name": "stdout",
     "output_type": "stream",
     "text": [
      "datasets/spam.csv\n",
      "he in\n"
     ]
    }
   ],
   "source": [
    "leave_one_out_error('datasets/spam.csv')"
   ]
  },
  {
   "cell_type": "code",
   "execution_count": null,
   "metadata": {},
   "outputs": [],
   "source": []
  }
 ],
 "metadata": {
  "kernelspec": {
   "display_name": "Python 3",
   "language": "python",
   "name": "python3"
  }
 },
 "nbformat": 4,
 "nbformat_minor": 2
}
