{
 "cells": [
  {
   "cell_type": "code",
   "execution_count": 164,
   "metadata": {},
   "outputs": [],
   "source": [
    "import numpy as np\n",
    "class Point:\n",
    "    def __init__(self, label, coordinates):\n",
    "        self.label = label\n",
    "        self.coordinates = np.array(coordinates)\n",
    "        \n",
    "    def getDist(self, cur_point):\n",
    "        return np.linalg.norm(cur_point.coordinates - self.coordinates)"
   ]
  },
  {
   "cell_type": "code",
   "execution_count": 165,
   "metadata": {},
   "outputs": [],
   "source": [
    "import csv\n",
    "def getPoints(file_name):\n",
    "    with open (file_name, 'r') as file_obj:\n",
    "        points = []\n",
    "        reader = csv.DictReader(file_obj, delimiter=',')\n",
    "        for row in reader:\n",
    "            coordinates = []\n",
    "            label = row['label']\n",
    "            for col in reader.fieldnames:\n",
    "                if (col != 'label'):\n",
    "                    coordinates.append(float(row[col]))\n",
    "            points.append(Point(label, coordinates))\n",
    "    return points"
   ]
  },
  {
   "cell_type": "code",
   "execution_count": 166,
   "metadata": {},
   "outputs": [],
   "source": [
    "def getLabel(points):\n",
    "    labels = {}\n",
    "    max_count = 0;\n",
    "    for point in points:\n",
    "        if (point.label not in labels):\n",
    "            labels[point.label] = 1\n",
    "        else:\n",
    "            labels[point.label] += 1\n",
    "        if (labels[point.label] > max_count):\n",
    "            max_count = labels[point.label]\n",
    "            label_with_max_cout = point.label\n",
    "    return label_with_max_cout"
   ]
  },
  {
   "cell_type": "code",
   "execution_count": 167,
   "metadata": {},
   "outputs": [],
   "source": [
    "def purity(colors, centers):\n",
    "    count = 0.0;\n",
    "    summ = 0.0;\n",
    "    \n",
    "    for i in range(len(centers)):\n",
    "        summ += len(colors[i])\n",
    "        max_label = getLabel(colors[i])\n",
    "        for point in colors[i]:\n",
    "            if (point.label == max_label):\n",
    "                count += 1;\n",
    "            \n",
    "    return count / summ"
   ]
  },
  {
   "cell_type": "code",
   "execution_count": 168,
   "metadata": {},
   "outputs": [],
   "source": [
    "def getMins(points):\n",
    "    minX = points[0].coordinates[0];\n",
    "    minY = points[0].coordinates[1]\n",
    "    for point in points:\n",
    "        if (point.coordinates[0] < minX):\n",
    "            minX = point.coordinates[0]\n",
    "        if (point.coordinates[1] < minY):\n",
    "            minY = point.coordinates[1]\n",
    "    return minX, minY"
   ]
  },
  {
   "cell_type": "code",
   "execution_count": 169,
   "metadata": {},
   "outputs": [],
   "source": [
    "def getMaxs(points):\n",
    "    maxX = points[0].coordinates[0];\n",
    "    maxY = points[0].coordinates[1]\n",
    "    for point in points:\n",
    "        if (point.coordinates[0] > maxX):\n",
    "            maxX = point.coordinates[0]\n",
    "        if (point.coordinates[1] > maxY):\n",
    "            maxY = point.coordinates[1]\n",
    "    return maxX, maxY"
   ]
  },
  {
   "cell_type": "code",
   "execution_count": 170,
   "metadata": {},
   "outputs": [],
   "source": [
    "import numpy as np\n",
    "def randomCenters(cluster_count):\n",
    "    minX, minY = getMins(points)\n",
    "    maxX, maxY = getMaxs(points)\n",
    "    centers = []\n",
    "    for i in range(cluster_count):\n",
    "        centers.append([np.random.uniform(minX, maxX),np.random.uniform(minY, maxY) ])\n",
    "    return centers"
   ]
  },
  {
   "cell_type": "code",
   "execution_count": 171,
   "metadata": {},
   "outputs": [],
   "source": [
    "def updateCenters(colors, cluster_count):\n",
    "    centers = [-1] * cluster_count\n",
    "    for i in range(cluster_count):\n",
    "        sumX = 0.0\n",
    "        sumY = 0.0\n",
    "        minY = colors[i][0].coordinates[1]\n",
    "        maxY = colors[i][0].coordinates[1]\n",
    "        for point in colors[i]:\n",
    "            sumX += point.coordinates[0]\n",
    "            sumY += point.coordinates[1]\n",
    "        sumX = sumX / len(colors[i])\n",
    "        sumY = sumY / len(colors[i])\n",
    "        centers[i] = [sumX, sumY]\n",
    "    return centers"
   ]
  },
  {
   "cell_type": "code",
   "execution_count": 172,
   "metadata": {},
   "outputs": [],
   "source": [
    "def distance(point1, point2):\n",
    "    return ((point1[0] - point2[0])**2 + (point1[1] - point2[1])**2 ) ** 0.5"
   ]
  },
  {
   "cell_type": "code",
   "execution_count": 173,
   "metadata": {},
   "outputs": [],
   "source": [
    "def getMinCenter(point, centers):\n",
    "    minDist = distance(point.coordinates, centers[0])\n",
    "    ind = 0\n",
    "    for i in range(len(centers)):\n",
    "        dist = distance(point.coordinates, centers[i])\n",
    "        if ( dist < minDist):\n",
    "            minDist = dist\n",
    "            ind = i\n",
    "    return ind"
   ]
  },
  {
   "cell_type": "code",
   "execution_count": 174,
   "metadata": {},
   "outputs": [],
   "source": [
    "def setColors(points, centers):\n",
    "    colors = []\n",
    "    for i in range(len(centers)):\n",
    "        colors.append([])\n",
    "    for point in points:\n",
    "        indMinCenter = getMinCenter(point, centers)\n",
    "        colors[indMinCenter].append(point)\n",
    "    return colors"
   ]
  },
  {
   "cell_type": "code",
   "execution_count": 175,
   "metadata": {},
   "outputs": [],
   "source": [
    "def kMeans(points, cluster_count):\n",
    "    centers = randomCenters(cluster_count)\n",
    "    while(True):\n",
    "        colors = setColors(points, centers)\n",
    "        newcenters = updateCenters(colors, cluster_count)\n",
    "        if (newcenters == centers):\n",
    "            return purity(colors, centers)\n",
    "        else:\n",
    "            centers = newcenters\n",
    "            "
   ]
  },
  {
   "cell_type": "code",
   "execution_count": 181,
   "metadata": {},
   "outputs": [
    {
     "name": "stdout",
     "output_type": "stream",
     "text": [
      "0.8330404217926186\n",
      "0.8400702987697716\n",
      "0.8541300527240774\n",
      "0.8787346221441125\n"
     ]
    }
   ],
   "source": [
    "\n",
    "for i in [2, 3, 5, 10]:\n",
    "    points = getPoints('datasets/cancer.csv')\n",
    "    print(kMeans(points, i))"
   ]
  },
  {
   "cell_type": "code",
   "execution_count": null,
   "metadata": {},
   "outputs": [],
   "source": []
  },
  {
   "cell_type": "code",
   "execution_count": null,
   "metadata": {},
   "outputs": [],
   "source": []
  },
  {
   "cell_type": "code",
   "execution_count": null,
   "metadata": {},
   "outputs": [],
   "source": []
  },
  {
   "cell_type": "code",
   "execution_count": null,
   "metadata": {},
   "outputs": [],
   "source": []
  }
 ],
 "metadata": {
  "kernelspec": {
   "display_name": "Python 3",
   "language": "python",
   "name": "python3"
  },
  "language_info": {
   "codemirror_mode": {
    "name": "ipython",
    "version": 3
   },
   "file_extension": ".py",
   "mimetype": "text/x-python",
   "name": "python",
   "nbconvert_exporter": "python",
   "pygments_lexer": "ipython3",
   "version": "3.7.1"
  }
 },
 "nbformat": 4,
 "nbformat_minor": 2
}
