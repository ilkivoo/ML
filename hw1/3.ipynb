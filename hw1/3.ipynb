{
 "cells": [
  {
   "cell_type": "code",
   "execution_count": 284,
   "metadata": {},
   "outputs": [],
   "source": [
    "import csv\n",
    "def getPoints(file_name):\n",
    "    with open (file_name, 'r') as file_obj:\n",
    "        points = []\n",
    "        reader = csv.DictReader(file_obj, delimiter=',')\n",
    "        for row in reader:\n",
    "            coordinates = []\n",
    "            for col in reader.fieldnames:\n",
    "                coordinates.append(float(row[col]))\n",
    "            points.append(coordinates)\n",
    "    return points"
   ]
  },
  {
   "cell_type": "code",
   "execution_count": 285,
   "metadata": {},
   "outputs": [],
   "source": [
    "import matplotlib.pyplot as plt\n",
    "import matplotlib\n",
    "matplotlib.rcParams['figure.figsize'] =[5, 5]\n",
    "colorsValue = ['red', 'blue', 'green', 'yellow', 'violet']\n",
    "def draw(colors, centers):\n",
    "    for i in range(len(centers)):\n",
    "        for point in colors[i]:\n",
    "            plt.scatter(point[0], point[1], 20, colorsValue[i])\n",
    "        plt.scatter(centers[i][0], centers[i][1], 20, 'black')"
   ]
  },
  {
   "cell_type": "code",
   "execution_count": 286,
   "metadata": {},
   "outputs": [],
   "source": [
    "def getMins(points):\n",
    "    minX = points[0][0];\n",
    "    minY = points[0][1]\n",
    "    for point in points:\n",
    "        if (point[0] < minX):\n",
    "            minX = point[0]\n",
    "        if (point[1] < minY):\n",
    "            minY = point[1]\n",
    "    return minX, minY"
   ]
  },
  {
   "cell_type": "code",
   "execution_count": 287,
   "metadata": {},
   "outputs": [],
   "source": [
    "def getMaxs(points):\n",
    "    maxX = points[0][0];\n",
    "    maxY = points[0][1]\n",
    "    for point in points:\n",
    "        if (point[0] > maxX):\n",
    "            maxX = point[0]\n",
    "        if (point[1] > maxY):\n",
    "            maxY = point[1]\n",
    "    return maxX, maxY"
   ]
  },
  {
   "cell_type": "code",
   "execution_count": 288,
   "metadata": {},
   "outputs": [],
   "source": [
    "import numpy as np\n",
    "def randomCenters(cluster_count):\n",
    "    minX, minY = getMins(points)\n",
    "    maxX, maxY = getMaxs(points)\n",
    "    centers = []\n",
    "    for i in range(cluster_count):\n",
    "        centers.append([np.random.uniform(minX, maxX),np.random.uniform(minY, maxY) ])\n",
    "    return centers"
   ]
  },
  {
   "cell_type": "code",
   "execution_count": 289,
   "metadata": {},
   "outputs": [],
   "source": [
    "def updateCenters(colors, cluster_count):\n",
    "    centers = [-1] * cluster_count\n",
    "    for i in range(cluster_count):\n",
    "        sumX = 0.0\n",
    "        sumY = 0.0\n",
    "        minY = colors[i][0][1]\n",
    "        maxY = colors[i][0][1]\n",
    "        for point in colors[i]:\n",
    "        \n",
    "            if (point[1] < minY):\n",
    "                minY = point[1]\n",
    "            if (point[1] > maxY):\n",
    "                maxY = point[1]\n",
    "            sumX += point[0]\n",
    "            sumY += point[1]\n",
    "        sumX = sumX / len(colors[i])\n",
    "        sumY = sumY / len(colors[i])\n",
    "        centers[i] = [sumX, sumY]\n",
    "    return centers"
   ]
  },
  {
   "cell_type": "code",
   "execution_count": 290,
   "metadata": {},
   "outputs": [],
   "source": [
    "def distance(point1, point2):\n",
    "    return ((point1[0] - point2[0])**2 + (point1[1] - point2[1])**2 ) ** 0.5"
   ]
  },
  {
   "cell_type": "code",
   "execution_count": 291,
   "metadata": {},
   "outputs": [],
   "source": [
    "def getMinCenter(point, centers):\n",
    "    minDist = distance(point, centers[0])\n",
    "    ind = 0\n",
    "    for i in range(len(centers)):\n",
    "        dist = distance(point, centers[i])\n",
    "        if ( dist < minDist):\n",
    "            minDist = dist\n",
    "            ind = i\n",
    "    return ind"
   ]
  },
  {
   "cell_type": "code",
   "execution_count": 292,
   "metadata": {},
   "outputs": [],
   "source": [
    "def setColors(points, centers):\n",
    "    colors = []\n",
    "    for i in range(len(centers)):\n",
    "        colors.append([])\n",
    "    for point in points:\n",
    "        indMinCenter = getMinCenter(point, centers)\n",
    "        colors[indMinCenter].append(point)\n",
    "    return colors"
   ]
  },
  {
   "cell_type": "code",
   "execution_count": 293,
   "metadata": {},
   "outputs": [],
   "source": [
    "def kMeans(points, cluster_count):\n",
    "    centers = randomCenters(cluster_count)\n",
    "    while(True):\n",
    "        colors = setColors(points, centers)\n",
    "        newcenters = updateCenters(colors, cluster_count)\n",
    "        if (newcenters == centers):\n",
    "            draw(colors, centers)\n",
    "            return\n",
    "        else:\n",
    "            centers = newcenters\n",
    "            "
   ]
  },
  {
   "cell_type": "code",
   "execution_count": 294,
   "metadata": {},
   "outputs": [
    {
     "data": {
      "image/png": "[encoded data removed]",
      "text/plain": [
       "<Figure size 360x360 with 1 Axes>"
      ]
     },
     "metadata": {
      "needs_background": "light"
     },
     "output_type": "display_data"
    }
   ],
   "source": [
    "points = getPoints('datasets/blobs.csv')\n",
    "for i in range(2, 6):\n",
    "    kMeans(points, k)"
   ]
  },
  {
   "cell_type": "code",
   "execution_count": null,
   "metadata": {},
   "outputs": [],
   "source": []
  },
  {
   "cell_type": "code",
   "execution_count": null,
   "metadata": {},
   "outputs": [],
   "source": []
  },
  {
   "cell_type": "code",
   "execution_count": null,
   "metadata": {},
   "outputs": [],
   "source": []
  }
 ],
 "metadata": {
  "kernelspec": {
   "display_name": "Python 3",
   "language": "python",
   "name": "python3"
  },
  "language_info": {
   "codemirror_mode": {
    "name": "ipython",
    "version": 3
   },
   "file_extension": ".py",
   "mimetype": "text/x-python",
   "name": "python",
   "nbconvert_exporter": "python",
   "pygments_lexer": "ipython3",
   "version": "3.7.1"
  }
 },
 "nbformat": 4,
 "nbformat_minor": 2
}
