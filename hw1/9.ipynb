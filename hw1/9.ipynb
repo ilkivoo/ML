{
 "cells": [
  {
   "cell_type": "code",
   "execution_count": 242,
   "metadata": {},
   "outputs": [],
   "source": [
    "import pandas as pd\n",
    "from sklearn import svm\n",
    "import numpy as np\n",
    "from time import time\n",
    "import matplotlib.pyplot as plt\n",
    "import matplotlib\n",
    "from sklearn.model_selection import train_test_split\n",
    "from sklearn.ensemble import RandomForestClassifier\n",
    "from sklearn.metrics import roc_curve, roc_auc_score"
   ]
  },
  {
   "cell_type": "code",
   "execution_count": 243,
   "metadata": {},
   "outputs": [],
   "source": [
    "def get_data_spam():\n",
    "    data = pd.read_csv(\"datasets/spam.csv\").values\n",
    "    points = data[:, 1:].astype('float64')\n",
    "    labels0 = data[:, 0]\n",
    "    labels = []\n",
    "    for i in labels0:\n",
    "        if (i == 1):\n",
    "            labels.append(1)\n",
    "        else:\n",
    "            labels.append(0)\n",
    "    return np.array(points), np.array(labels)\n",
    "\n",
    "def get_data_cancer():\n",
    "    data = pd.read_csv(\"datasets/cancer.csv\").values\n",
    "    points = data[:, 1:].astype('float64')\n",
    "    labels0 = data[:, 0]\n",
    "    labels = []\n",
    "    for i in labels0:\n",
    "        if (i == 'M'):\n",
    "            labels.append(1)\n",
    "        else:\n",
    "            labels.append(0)\n",
    "    return np.array(points), np.array(labels)"
   ]
  },
  {
   "cell_type": "code",
   "execution_count": 244,
   "metadata": {},
   "outputs": [],
   "source": [
    "def draw_plot(title, xs, ys):\n",
    "    plt.plot([0, 1], [0, 1], 'y')\n",
    "    plt.plot(xs, ys)\n",
    "    plt.title(title)\n",
    "    plt.show()"
   ]
  },
  {
   "cell_type": "code",
   "execution_count": 245,
   "metadata": {},
   "outputs": [],
   "source": [
    "def gini(labels):\n",
    "    p = labels.sum() / labels.shape[0]\n",
    "    return 2 * p * (1 - p)"
   ]
  },
  {
   "cell_type": "code",
   "execution_count": 246,
   "metadata": {},
   "outputs": [],
   "source": [
    "def find(x, conds):\n",
    "    result = True\n",
    "    for cond in conds:\n",
    "        result = result and cond(x)\n",
    "    return result\n",
    "\n",
    "def build_tree(features, data, labels, depth=10, conds=[], result=None, i=1):\n",
    "    if result is None:\n",
    "        result = np.zeros((2 ** (depth + 1), 3))\n",
    "    current = np.apply_along_axis(lambda x: find(x, conds), 1, data)\n",
    "    total = labels.shape[0]\n",
    "    positive = labels[current].sum()\n",
    "    result[i][2] = positive / total\n",
    "    if (depth == 0):\n",
    "        return\n",
    "    best_f = -1\n",
    "    best_t = -1\n",
    "    best_score = -1\n",
    "    if current.sum() > 0:\n",
    "        for f_ind, f in enumerate(features):\n",
    "            for t in f:\n",
    "                left = np.apply_along_axis(lambda x : x[f_ind] < t, 1, data[current])\n",
    "                right = np.apply_along_axis(lambda x : x[f_ind] >= t, 1, data[current])\n",
    "                if (left.sum() < 1 or right.sum() < 1):\n",
    "                    score = 0\n",
    "                else :\n",
    "                    c = current.sum() * gini(labels[current])\n",
    "                    l = left.sum() * gini(labels[current][left])\n",
    "                    r = right.sum() * gini(labels[current][right])\n",
    "                    score = c - l - r\n",
    "                if best_score < score:\n",
    "                    best_score = score\n",
    "                    best_t = t\n",
    "                    best_f = f_ind\n",
    "        result[i][0], result[i][1] = best_f, best_t\n",
    "    if (depth > 0):\n",
    "        build(features, data, labels, depth - 1, conds + [lambda x : x[best_f] < best_t], result, 2 * i)\n",
    "        build(features, data, labels, depth - 1, conds + [lambda x : x[best_f] >= best_t], result, 2 * i + 1)\n",
    "    return result"
   ]
  },
  {
   "cell_type": "code",
   "execution_count": 247,
   "metadata": {},
   "outputs": [
    {
     "name": "stderr",
     "output_type": "stream",
     "text": [
      "/usr/local/lib/python3.7/site-packages/sklearn/model_selection/_split.py:2179: FutureWarning: From version 0.21, test_size will always complement train_size unless both are specified.\n",
      "  FutureWarning)\n"
     ]
    },
    {
     "name": "stdout",
     "output_type": "stream",
     "text": [
      "depth = 1; auc = 0.8968253968253967\n",
      "depth = 2; auc = 0.908068783068783\n",
      "depth = 3; auc = 0.9150132275132276\n",
      "depth = 4; auc = 0.9034391534391533\n",
      "depth = 5; auc = 0.923941798941799\n",
      "depth = 6; auc = 0.9353505291005291\n",
      "depth = 7; auc = 0.9513888888888888\n",
      "depth = 8; auc = 0.9533730158730158\n",
      "depth = 9; auc = 0.9533730158730158\n",
      "depth = 10; auc = 0.9533730158730158\n",
      "best depth: 8\n",
      "best auc: 0.9533730158730158\n"
     ]
    },
    {
     "data": {
      "image/png": "[encoded data removed]",
      "text/plain": [
       "<Figure size 432x288 with 1 Axes>"
      ]
     },
     "metadata": {
      "needs_background": "light"
     },
     "output_type": "display_data"
    }
   ],
   "source": [
    "points, labels = get_data_cancer()\n",
    "train_data, train_labels, test_data, test_labels = split_data(points, labels)\n",
    "features = []\n",
    "for f in points.transpose():\n",
    "    features.append(np.unique(f))\n",
    "features = np.array(features)\n",
    "tree = build_tree(features, train_data, train_labels)\n",
    "best_auc = -1\n",
    "best_depth = -1\n",
    "best_fpr = None\n",
    "best_tpr = None\n",
    "for i in range(1, 11):\n",
    "    probs = []\n",
    "    for x in test_data:\n",
    "        j = 1\n",
    "        for k in range(i):\n",
    "            j = 2 * j + (x[int(tree[j][0])] >= tree[j][1])\n",
    "        probs.append(tree[j][2])\n",
    "    fpr, tpr, _ = roc_curve(test_labels, probs)\n",
    "    auc = roc_auc_score(test_labels, probs)\n",
    "    print('depth = ' + str(i) + \"; auc = \" + str(auc))\n",
    "    if best_auc < auc:\n",
    "        best_auc = auc\n",
    "        best_depth = i\n",
    "        best_fpr = fpr\n",
    "        best_tpr = tpr\n",
    "print('best depth:', best_depth)\n",
    "print('best auc:', best_auc)\n",
    "draw_plot('depth = ' + str(best_depth), best_fpr, best_tpr)\n"
   ]
  },
  {
   "cell_type": "code",
   "execution_count": 248,
   "metadata": {},
   "outputs": [
    {
     "name": "stderr",
     "output_type": "stream",
     "text": [
      "/usr/local/lib/python3.7/site-packages/sklearn/model_selection/_split.py:2179: FutureWarning: From version 0.21, test_size will always complement train_size unless both are specified.\n",
      "  FutureWarning)\n"
     ]
    },
    {
     "name": "stdout",
     "output_type": "stream",
     "text": [
      "depth = 1; auc = 0.003808487486398282\n",
      "depth = 2; auc = 0.5038084874863983\n",
      "depth = 3; auc = 0.9951033732317737\n",
      "depth = 4; auc = 0.999455930359086\n",
      "depth = 5; auc = 0.999455930359086\n",
      "depth = 6; auc = 0.999455930359086\n",
      "depth = 7; auc = 0.999455930359086\n",
      "depth = 8; auc = 0.999455930359086\n",
      "depth = 9; auc = 0.999455930359086\n",
      "depth = 10; auc = 0.999455930359086\n",
      "best depth: 4\n",
      "best auc: 0.999455930359086\n"
     ]
    },
    {
     "data": {
      "image/png": "[encoded data removed]",
      "text/plain": [
       "<Figure size 432x288 with 1 Axes>"
      ]
     },
     "metadata": {
      "needs_background": "light"
     },
     "output_type": "display_data"
    }
   ],
   "source": [
    "points, labels = get_data_spam()\n",
    "train_data, train_labels, test_data, test_labels = split_data(points, labels)\n",
    "features = []\n",
    "for f in points.transpose():\n",
    "    features.append(np.unique(f))\n",
    "features = np.array(features)\n",
    "tree = build_tree(features, train_data, train_labels)\n",
    "best_auc = -1\n",
    "best_depth = -1\n",
    "best_fpr = None\n",
    "best_tpr = None\n",
    "for i in range(1, 11):\n",
    "    probs = []\n",
    "    for x in test_data:\n",
    "        j = 1\n",
    "        for k in range(i):\n",
    "            j = 2 * j + (x[int(tree[j][0])] >= tree[j][1])\n",
    "        probs.append(tree[j][2])\n",
    "    fpr, tpr, _ = roc_curve(test_labels, probs)\n",
    "    auc = roc_auc_score(test_labels, probs)\n",
    "    print('depth = ' + str(i) + \"; auc = \" + str(auc))\n",
    "    if best_auc < auc:\n",
    "        best_auc = auc\n",
    "        best_depth = i\n",
    "        best_fpr = fpr\n",
    "        best_tpr = tpr\n",
    "print('best depth:', best_depth)\n",
    "print('best auc:', best_auc)\n",
    "draw_plot('depth = ' + str(best_depth), best_fpr, best_tpr)"
   ]
  },
  {
   "cell_type": "code",
   "execution_count": null,
   "metadata": {},
   "outputs": [],
   "source": []
  },
  {
   "cell_type": "code",
   "execution_count": null,
   "metadata": {},
   "outputs": [],
   "source": []
  },
  {
   "cell_type": "code",
   "execution_count": null,
   "metadata": {},
   "outputs": [],
   "source": []
  }
 ],
 "metadata": {
  "kernelspec": {
   "display_name": "Python 3",
   "language": "python",
   "name": "python3"
  },
  "language_info": {
   "codemirror_mode": {
    "name": "ipython",
    "version": 3
   },
   "file_extension": ".py",
   "mimetype": "text/x-python",
   "name": "python",
   "nbconvert_exporter": "python",
   "pygments_lexer": "ipython3",
   "version": "3.7.3"
  }
 },
 "nbformat": 4,
 "nbformat_minor": 2
}
