{
 "cells": [
  {
   "cell_type": "markdown",
   "metadata": {},
   "source": [
    "1. (2 points) Identify breakpoints, VC-dimensions and growth functions of following hypotheses:\n",
    "\n",
    "a) h(x) = +1   if $x_i$ > a\n",
    "\n",
    "k = 1\n",
    "\n",
    "$x_1$ < a\n",
    "\n",
    "$x_1$ > a\n",
    "   \n",
    "k = 2\n",
    "\n",
    "$a < x_1 < x_2$\n",
    "    \n",
    "$x_1 < a <  x_2$\n",
    "    \n",
    "$x_1 < x_2 < a$\n",
    "    \n",
    "\n",
    "$3 < 2^2 $ => breakpoint = 2 => $d_{vc}$ = 1\n",
    "\n",
    "$x_1 < ...  < x_k$. Тогда $h(x_1), h(x_2) ... h(x_k) = -1...-1 1...1$ => Смена знака могла произойти в одной из k+ 1 позиций => $m_h(k) = k + 1$. \n",
    "\n",
    "\n",
    "\n",
    "b) $h(x) = +1$    $if a < x_i < b$\n",
    "\n",
    "k = 1 \n",
    "\n",
    "$x_1 < a < b$\n",
    "    \n",
    "$ a < x_1 < b$\n",
    "    \n",
    "k = 2\n",
    "\n",
    "$x_1<x_2 <a < b$\n",
    "    \n",
    "$a < x_1 < b < x_2 $\n",
    "    \n",
    "$x_1 < a < x_2  < b$\n",
    "    \n",
    "$ a < x_1 < x_2  < b$\n",
    "\n",
    "k = 3\n",
    "\n",
    "$x_1<x_2<x_3 <a < b$\n",
    "\n",
    "$x_1<x_2<a <x_3 < b$\n",
    "\n",
    "$x_1<a <x_2 < b<x_3$\n",
    "\n",
    "$x_1<a <x_2 <x_3< b$\n",
    "\n",
    "$a < x_1 < b < x_2 < x_3$\n",
    "\n",
    "$a < x_1 < x_2 < b  < x_3$\n",
    "\n",
    "$a < x_1 < x_2 < x_3 < b$\n",
    "\n",
    "$ 7 < 2^3 => breakpoint = 3 => d_{vc} = 2$\n",
    "\n",
    "$x_1 < ...  < x_k$. Тогда $h(x_1), h(x_2) ... h(x_k) = -1...-11...1-1..-1$ => мы должны выбрать область из 1. это можно сделать $\\frac{k \\cdot (k + 1)}{2}$ и надо учесть еще способ, когда x_1 < ...  < x_k < a < b => $m_h(k) = \\frac{k \\cdot (k + 1)}{2} + 1$\n"
   ]
  },
  {
   "cell_type": "markdown",
   "metadata": {},
   "source": []
  },
  {
   "cell_type": "code",
   "execution_count": null,
   "metadata": {},
   "outputs": [],
   "source": []
  },
  {
   "cell_type": "code",
   "execution_count": null,
   "metadata": {},
   "outputs": [],
   "source": []
  }
 ],
 "metadata": {
  "kernelspec": {
   "display_name": "Python 3",
   "language": "python",
   "name": "python3"
  },
  "language_info": {
   "codemirror_mode": {
    "name": "ipython",
    "version": 3
   },
   "file_extension": ".py",
   "mimetype": "text/x-python",
   "name": "python",
   "nbconvert_exporter": "python",
   "pygments_lexer": "ipython3",
   "version": "3.7.1"
  }
 },
 "nbformat": 4,
 "nbformat_minor": 2
}
