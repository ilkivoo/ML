{
 "cells": [
  {
   "cell_type": "code",
   "execution_count": 146,
   "metadata": {},
   "outputs": [],
   "source": [
    "import pandas as pd\n",
    "def get_data_spam():\n",
    "    data = pd.read_csv(\"datasets/spam.csv\").values\n",
    "    return data[:, 0: -1].astype('float64'), data[:, -1].astype('int')\n",
    "\n",
    "def get_data_cancer():\n",
    "    data = pd.read_csv(\"datasets/cancer.csv\").values\n",
    "    points = data[:, 1:].astype('float64')\n",
    "    labels0 = data[:, 0]\n",
    "    labels = []\n",
    "    for i in labels0:\n",
    "        if (i == 'M'):\n",
    "            labels.append(1)\n",
    "        else:\n",
    "            labels.append(-1)\n",
    "    return points, labels"
   ]
  },
  {
   "cell_type": "code",
   "execution_count": 147,
   "metadata": {},
   "outputs": [],
   "source": [
    "from sklearn.preprocessing import MinMaxScaler\n",
    "import numpy as np\n",
    "\n",
    "def h(points, labels, w, inds):\n",
    "    s = 0\n",
    "    for i in inds:\n",
    "        s += labels[i] * points[i] / (1 + np.exp(labels[i] * (w @ points[i])))\n",
    "    return s\n",
    "\n",
    "def h1(point, w):\n",
    "    if (1 / (1 + np.exp(-(w @ point))) < 0.5):\n",
    "        return -1\n",
    "    else:\n",
    "        return 1\n",
    "\n",
    "def logistic_regression(points, labels, epochs, batch_size):\n",
    "    points = MinMaxScaler().fit_transform(points)\n",
    "    w = np.random.rand(len(points[0]))\n",
    "    bc = (len(points) + batch_size - 1) // batch_size\n",
    "    acc = []\n",
    "    for i in range(epochs):\n",
    "        for j in range(bc):\n",
    "            batch = range(batch_size * j, min(batch_size * (j + 1), len(points)))\n",
    "            w += h(points, labels, w, batch) / len(batch)\n",
    "        s = 0.0\n",
    "        for i in range(len(points)):\n",
    "            if (h1(points[i], w) == labels[i]):\n",
    "                s += 1.0\n",
    "        acc.append( s / len(points))\n",
    "    return acc"
   ]
  },
  {
   "cell_type": "code",
   "execution_count": 148,
   "metadata": {},
   "outputs": [],
   "source": [
    "import matplotlib.pyplot as plt\n",
    "def draw_regr(acc):\n",
    "    plt.plot(list(range(len(acc))), acc)\n",
    "    plt.show()"
   ]
  },
  {
   "cell_type": "code",
   "execution_count": 149,
   "metadata": {},
   "outputs": [
    {
     "data": {
      "image/png": "[encoded data removed]",
      "text/plain": [
       "<Figure size 432x288 with 1 Axes>"
      ]
     },
     "metadata": {
      "needs_background": "light"
     },
     "output_type": "display_data"
    }
   ],
   "source": [
    "points, labels = get_data_cancer()\n",
    "epochs = 200\n",
    "batch_size = 32\n",
    "acc = logistic_regression(points, labels, epochs, batch_size)\n",
    "draw_regr(acc)"
   ]
  },
  {
   "cell_type": "code",
   "execution_count": null,
   "metadata": {},
   "outputs": [],
   "source": []
  },
  {
   "cell_type": "code",
   "execution_count": null,
   "metadata": {},
   "outputs": [],
   "source": []
  }
 ],
 "metadata": {
  "kernelspec": {
   "display_name": "Python 3",
   "language": "python",
   "name": "python3"
  },
  "language_info": {
   "codemirror_mode": {
    "name": "ipython",
    "version": 3
   },
   "file_extension": ".py",
   "mimetype": "text/x-python",
   "name": "python",
   "nbconvert_exporter": "python",
   "pygments_lexer": "ipython3",
   "version": "3.7.1"
  }
 },
 "nbformat": 4,
 "nbformat_minor": 2
}
