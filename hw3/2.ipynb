{
 "cells": [
  {
   "cell_type": "code",
   "execution_count": 74,
   "metadata": {},
   "outputs": [],
   "source": [
    "import pandas as pd\n",
    "from sklearn import svm\n",
    "import numpy as np\n",
    "from time import time\n",
    "import matplotlib.pyplot as plt\n",
    "import matplotlib\n",
    "from sklearn.model_selection import train_test_split\n",
    "from sklearn.ensemble import RandomForestClassifier\n"
   ]
  },
  {
   "cell_type": "code",
   "execution_count": 75,
   "metadata": {},
   "outputs": [],
   "source": [
    "def get_data(file_name):\n",
    "    data = pd.read_csv(file_name).values\n",
    "    return data[:, 0: -1].astype('float64'), data[:, -1].astype('int')"
   ]
  },
  {
   "cell_type": "code",
   "execution_count": 76,
   "metadata": {},
   "outputs": [],
   "source": [
    "def get_data_spam():\n",
    "    data = pd.read_csv(\"datasets/spam.csv\").values\n",
    "    points = data[:, 1:].astype('float64')\n",
    "    labels0 = data[:, 0]\n",
    "    labels = []\n",
    "    for i in labels0:\n",
    "        if (i == 1):\n",
    "            labels.append(1)\n",
    "        else:\n",
    "            labels.append(0)\n",
    "    return points, labels\n",
    "\n",
    "def get_data_cancer():\n",
    "    data = pd.read_csv(\"datasets/cancer.csv\").values\n",
    "    points = data[:, 1:].astype('float64')\n",
    "    labels0 = data[:, 0]\n",
    "    labels = []\n",
    "    for i in labels0:\n",
    "        if (i == 'M'):\n",
    "            labels.append(1)\n",
    "        else:\n",
    "            labels.append(0)\n",
    "    return points, labels"
   ]
  },
  {
   "cell_type": "code",
   "execution_count": 77,
   "metadata": {},
   "outputs": [],
   "source": [
    "def split_data(points, labels):\n",
    "    points_train, points_test, labels_train, labels_test = train_test_split(points, labels, train_size=0.8)  \n",
    "    return points_train, labels_train, points_test,  labels_test"
   ]
  },
  {
   "cell_type": "code",
   "execution_count": 78,
   "metadata": {},
   "outputs": [],
   "source": [
    "def time1(clf, points, labels):\n",
    "    s = time()\n",
    "    clf.fit(points, labels)\n",
    "    e = time()\n",
    "    return e - s"
   ]
  },
  {
   "cell_type": "code",
   "execution_count": 79,
   "metadata": {},
   "outputs": [],
   "source": [
    "def cmp(clf, points_train, labels_train, points_test,  labels_test, title):\n",
    "    time = time1(clf, points_train, labels_train)\n",
    "    acc = clf.score(points_test, labels_test)\n",
    "    print(title)\n",
    "    print(\"Time     = \" + str(time))\n",
    "    print(\"Accuracy = \" + str(acc))"
   ]
  },
  {
   "cell_type": "code",
   "execution_count": 80,
   "metadata": {},
   "outputs": [
    {
     "name": "stderr",
     "output_type": "stream",
     "text": [
      "/usr/local/lib/python3.7/site-packages/sklearn/model_selection/_split.py:2179: FutureWarning: From version 0.21, test_size will always complement train_size unless both are specified.\n",
      "  FutureWarning)\n"
     ]
    },
    {
     "name": "stdout",
     "output_type": "stream",
     "text": [
      "      SVM\n",
      "Time     = 0.9018950462341309\n",
      "Accuracy = 0.9385964912280702\n",
      "      RandomForest\n",
      "Time     = 0.009699821472167969\n",
      "Accuracy = 0.9122807017543859\n"
     ]
    }
   ],
   "source": [
    "points, labels = get_data_cancer()\n",
    "points_train, labels_train, points_test,  labels_test = split_data(points, labels)\n",
    "cmp(svm.SVC(kernel='linear', degree=0), points_train, labels_train, points_test,  labels_test, \"      SVM\" )\n",
    "cmp(RandomForestClassifier(n_estimators=10, max_depth=1), points_train, labels_train, points_test,  labels_test, \"      RandomForest\" )"
   ]
  },
  {
   "cell_type": "code",
   "execution_count": 81,
   "metadata": {},
   "outputs": [
    {
     "name": "stderr",
     "output_type": "stream",
     "text": [
      "/usr/local/lib/python3.7/site-packages/sklearn/model_selection/_split.py:2179: FutureWarning: From version 0.21, test_size will always complement train_size unless both are specified.\n",
      "  FutureWarning)\n"
     ]
    },
    {
     "name": "stdout",
     "output_type": "stream",
     "text": [
      "      SVM\n",
      "Time     = 4.726484775543213\n",
      "Accuracy = 0.998914223669924\n",
      "      RandomForest\n",
      "Time     = 0.012527942657470703\n",
      "Accuracy = 0.998914223669924\n"
     ]
    }
   ],
   "source": [
    "points, labels = get_data_spam()\n",
    "points_train, labels_train, points_test,  labels_test = split_data(points, labels)\n",
    "cmp(svm.SVC(kernel='linear', degree=0), points_train, labels_train, points_test,  labels_test, \"      SVM\" )\n",
    "cmp(RandomForestClassifier(n_estimators=10, max_depth=1), points_train, labels_train, points_test,  labels_test, \"      RandomForest\" )"
   ]
  },
  {
   "cell_type": "code",
   "execution_count": null,
   "metadata": {},
   "outputs": [],
   "source": []
  },
  {
   "cell_type": "code",
   "execution_count": null,
   "metadata": {},
   "outputs": [],
   "source": []
  }
 ],
 "metadata": {
  "kernelspec": {
   "display_name": "Python 3",
   "language": "python",
   "name": "python3"
  },
  "language_info": {
   "codemirror_mode": {
    "name": "ipython",
    "version": 3
   },
   "file_extension": ".py",
   "mimetype": "text/x-python",
   "name": "python",
   "nbconvert_exporter": "python",
   "pygments_lexer": "ipython3",
   "version": "3.7.1"
  }
 },
 "nbformat": 4,
 "nbformat_minor": 2
}
