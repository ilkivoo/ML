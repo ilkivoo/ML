{
 "cells": [
  {
   "cell_type": "code",
   "execution_count": 263,
   "metadata": {},
   "outputs": [],
   "source": [
    "import pandas as pd\n",
    "from sklearn import svm\n",
    "import numpy as np\n",
    "from time import time\n",
    "import matplotlib.pyplot as plt\n",
    "import matplotlib\n",
    "from sklearn.model_selection import train_test_split\n",
    "from sklearn.ensemble import RandomForestClassifier"
   ]
  },
  {
   "cell_type": "code",
   "execution_count": 264,
   "metadata": {},
   "outputs": [],
   "source": [
    "def get_data_spam():\n",
    "    data = pd.read_csv(\"datasets/spam.csv\").values\n",
    "    return data[:, 0:-1].astype('float64'), data[:, -1]\n",
    "\n",
    "def get_data_cancer():\n",
    "    data = pd.read_csv(\"datasets/cancer.csv\").values\n",
    "    return data[:, 1:].astype('float64'), data[:, 0]"
   ]
  },
  {
   "cell_type": "code",
   "execution_count": 265,
   "metadata": {},
   "outputs": [],
   "source": [
    "def split_data(points, labels):\n",
    "    points_train, points_test, labels_train, labels_test = train_test_split(points, labels, train_size=0.8)  \n",
    "    return points_train, labels_train, points_test,  labels_test"
   ]
  },
  {
   "cell_type": "code",
   "execution_count": 266,
   "metadata": {},
   "outputs": [],
   "source": [
    "def roc(labels, scores, l):\n",
    "    x, y, _ = metrics.roc_curve(labels, scores, pos_label=l)\n",
    "    plt.plot(x, y)\n",
    "    plt.show()"
   ]
  },
  {
   "cell_type": "code",
   "execution_count": 267,
   "metadata": {},
   "outputs": [],
   "source": [
    "def naive_bayesianClassifier_with_Gaussian_features(points_train, labels_train, points_test,  labels_test):\n",
    "    unique_labels, counts = np.unique(labels_train, return_counts=True)\n",
    "    p = counts / len(labels_train)\n",
    "    m = []\n",
    "    dev = []\n",
    "    for label in unique_labels:\n",
    "        xs = points_train[labels_train == label, :]\n",
    "        m.append(np.mean(xs, axis=0))\n",
    "        dev.append(np.std(xs, axis=0))\n",
    "    m = np.array(m)\n",
    "    dev = np.array(dev)\n",
    "    res = np.empty((len(points_test), len(unique_labels))) \n",
    "    for label in range(len(unique_labels)):\n",
    "        cur = np.empty(points_test.shape)\n",
    "        for i in range(points_test.shape[0]):\n",
    "            for j in range(points_test.shape[1]):\n",
    "                cur[i][j] = norm.pdf(points_test[i][j], loc=m[label][j], scale=dev[label][j])\n",
    "        res[:, label] = p[label] * np.prod(cur, axis=1) \n",
    "    for i in range(len(res)):\n",
    "        s = np.sum(res[i])\n",
    "        res[i] = 0.5 if s == 0 else res[i] / s   \n",
    "    print(np.mean(labels_test == unique_labels[np.argmax(res, axis=1)]))\n",
    "    return res"
   ]
  },
  {
   "cell_type": "code",
   "execution_count": 268,
   "metadata": {},
   "outputs": [
    {
     "name": "stdout",
     "output_type": "stream",
     "text": [
      "0.9824561403508771\n"
     ]
    },
    {
     "data": {
      "image/png": "[encoded data removed]",
      "text/plain": [
       "<Figure size 432x288 with 1 Axes>"
      ]
     },
     "metadata": {
      "needs_background": "light"
     },
     "output_type": "display_data"
    }
   ],
   "source": [
    "points, labels = get_data_cancer()\n",
    "points_train, labels_train, points_test,  labels_test = split_data(points, labels)\n",
    "scores = naive_bayesianClassifier_with_Gaussian_features(points_train, labels_train, points_test,  labels_test)\n",
    "roc(labels_test, scores[:, 1], 'M')"
   ]
  },
  {
   "cell_type": "code",
   "execution_count": 269,
   "metadata": {},
   "outputs": [
    {
     "name": "stdout",
     "output_type": "stream",
     "text": [
      "0.8078175895765473\n"
     ]
    },
    {
     "data": {
      "image/png": "[encoded data removed]",
      "text/plain": [
       "<Figure size 432x288 with 1 Axes>"
      ]
     },
     "metadata": {
      "needs_background": "light"
     },
     "output_type": "display_data"
    }
   ],
   "source": [
    "points, labels = get_data_spam()\n",
    "points_train, labels_train, points_test,  labels_test = split_data(points, labels)\n",
    "scores = naive_bayesianClassifier_with_Gaussian_features(points_train, labels_train, points_test,  labels_test)\n",
    "roc(labels_test, scores[:, 1], 1)"
   ]
  },
  {
   "cell_type": "code",
   "execution_count": null,
   "metadata": {},
   "outputs": [],
   "source": []
  },
  {
   "cell_type": "code",
   "execution_count": null,
   "metadata": {},
   "outputs": [],
   "source": []
  }
 ],
 "metadata": {
  "kernelspec": {
   "display_name": "Python 3",
   "language": "python",
   "name": "python3"
  },
  "language_info": {
   "codemirror_mode": {
    "name": "ipython",
    "version": 3
   },
   "file_extension": ".py",
   "mimetype": "text/x-python",
   "name": "python",
   "nbconvert_exporter": "python",
   "pygments_lexer": "ipython3",
   "version": "3.7.1"
  },
  "stem_cell": {
   "cell_type": "raw",
   "metadata": {
    "pycharm": {
     "metadata": false
    }
   },
   "source": ""
  }
 },
 "nbformat": 4,
 "nbformat_minor": 1
}
