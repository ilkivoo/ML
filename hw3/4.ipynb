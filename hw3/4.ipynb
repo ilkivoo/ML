{
 "cells": [
  {
   "cell_type": "code",
   "execution_count": 362,
   "metadata": {
    "pycharm": {
     "metadata": false,
     "name": "#%%\n"
    }
   },
   "outputs": [
    {
     "name": "stderr",
     "output_type": "stream",
     "text": [
      "[nltk_data] Downloading package punkt to\n",
      "[nltk_data]     /Users/alyokhina-o/nltk_data...\n",
      "[nltk_data]   Package punkt is already up-to-date!\n"
     ]
    },
    {
     "data": {
      "text/plain": [
       "True"
      ]
     },
     "execution_count": 362,
     "metadata": {},
     "output_type": "execute_result"
    }
   ],
   "source": [
    "import pandas as pd\n",
    "from sklearn import svm\n",
    "import numpy as np\n",
    "from time import time\n",
    "import matplotlib.pyplot as plt\n",
    "import matplotlib\n",
    "import csv\n",
    "from sklearn.model_selection import train_test_split\n",
    "from sklearn.ensemble import RandomForestClassifier\n",
    "import nltk\n",
    "from nltk.stem import PorterStemmer\n",
    "from nltk.tokenize import word_tokenize\n",
    "nltk.download('punkt')"
   ]
  },
  {
   "cell_type": "code",
   "execution_count": 363,
   "metadata": {},
   "outputs": [],
   "source": [
    "def get_data_smsspam():\n",
    "    data = pd.read_csv(\"datasets/smsspam.csv\").values\n",
    "    return data[:, 1], data[:, 0]\n",
    "\n",
    "def split_data(points, labels):\n",
    "    points_train, points_test, labels_train, labels_test = train_test_split(points, labels, train_size=0.8)  \n",
    "    return points_train, labels_train, points_test,  labels_test"
   ]
  },
  {
   "cell_type": "code",
   "execution_count": 364,
   "metadata": {
    "pycharm": {
     "is_executing": false,
     "metadata": false,
     "name": "#%%\n"
    }
   },
   "outputs": [],
   "source": [
    "def roc(labels, scores, l):\n",
    "    x, y, _ = metrics.roc_curve(labels, scores, pos_label=l)\n",
    "    plt.plot(x, y)\n",
    "    plt.show()"
   ]
  },
  {
   "cell_type": "code",
   "execution_count": 367,
   "metadata": {
    "pycharm": {
     "is_executing": false,
     "metadata": false,
     "name": "#%%\n"
    }
   },
   "outputs": [],
   "source": [
    "def naive_bayesian_classifier_with_discrete_features(points_train, labels_train, points_test,  labels_test):\n",
    "    unique_labels, counts = np.unique(labels_train, return_counts=True)\n",
    "    cp = counts / len(labels_train)\n",
    "    unique_words = np.unique(np.array([word for value in points_train for word in [PorterStemmer().stem(word) for word in word_tokenize(value)]])) \n",
    "    word_dict = {unique_words[i]: i for i in range(len(unique_words))}\n",
    "    fr = []\n",
    "    for label in unique_labels:\n",
    "        xs = np.array([word for value in points_train[labels_train == label] for word in [PorterStemmer().stem(word) for word in word_tokenize(value)]])\n",
    "        fr.append(np.array([np.sum(xs == word) for word in unique_words]))\n",
    "    points_test = np.array([[PorterStemmer().stem(word) for word in word_tokenize(row)] for row in points_test])\n",
    "    sc = np.empty((len(points_test), len(unique_labels)))\n",
    "    fr = np.array(fr)\n",
    "    for label in range(len(unique_labels)):\n",
    "        c = np.sum(fr[label]) + len(word_dict)\n",
    "        for i in range(len(points_test)):\n",
    "            p = 1\n",
    "            for j in range(len(points_test[i])):\n",
    "                 if  points_test[i][j] in word_dict:\n",
    "                    p *= (fr[label][word_dict[points_test[i][j]]] + 1)/c    \n",
    "            sc[i][label] = cp[label] * p  \n",
    "    for i in range(len(sc)):\n",
    "        s = np.sum(sc[i])\n",
    "        if (s == 0):\n",
    "            sc[i] = 0.5\n",
    "        else :\n",
    "            sc[i] = sc[i]/s\n",
    "    print(np.mean(labels_test == unique_labels[np.argmax(sc, axis=1)]))\n",
    "    return sc"
   ]
  },
  {
   "cell_type": "code",
   "execution_count": 368,
   "metadata": {},
   "outputs": [
    {
     "name": "stdout",
     "output_type": "stream",
     "text": [
      "0.979372197309417\n"
     ]
    },
    {
     "data": {
      "image/png": "[encoded data removed]",
      "text/plain": [
       "<Figure size 432x288 with 1 Axes>"
      ]
     },
     "metadata": {
      "needs_background": "light"
     },
     "output_type": "display_data"
    }
   ],
   "source": [
    "points, labels = get_data_smsspam()\n",
    "points_train, labels_train, points_test,  labels_test = split_data(points, labels)\n",
    "scores = naive_bayesian_classifier_with_discrete_features(points_train, labels_train, points_test,  labels_test)\n",
    "roc(labels_test, scores[:, 0], 'ham')"
   ]
  },
  {
   "cell_type": "code",
   "execution_count": null,
   "metadata": {},
   "outputs": [],
   "source": []
  },
  {
   "cell_type": "code",
   "execution_count": null,
   "metadata": {},
   "outputs": [],
   "source": []
  }
 ],
 "metadata": {
  "kernelspec": {
   "display_name": "Python 3",
   "language": "python",
   "name": "python3"
  },
  "language_info": {
   "codemirror_mode": {
    "name": "ipython",
    "version": 3
   },
   "file_extension": ".py",
   "mimetype": "text/x-python",
   "name": "python",
   "nbconvert_exporter": "python",
   "pygments_lexer": "ipython3",
   "version": "3.7.1"
  },
  "stem_cell": {
   "cell_type": "raw",
   "metadata": {
    "pycharm": {
     "metadata": false
    }
   },
   "source": ""
  }
 },
 "nbformat": 4,
 "nbformat_minor": 1
}
