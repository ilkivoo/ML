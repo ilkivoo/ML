{
 "cells": [
  {
   "cell_type": "code",
   "execution_count": 48,
   "metadata": {},
   "outputs": [],
   "source": [
    "import pandas as pd\n",
    "from sklearn import svm\n",
    "import numpy as np\n",
    "from time import time\n",
    "import matplotlib.pyplot as plt\n",
    "import matplotlib\n",
    "import csv\n",
    "from sklearn.model_selection import train_test_split\n",
    "from sklearn.ensemble import RandomForestClassifier\n",
    "import nltk\n",
    "from nltk.stem import PorterStemmer\n",
    "from nltk.tokenize import word_tokenize\n",
    "from sklearn.preprocessing import PolynomialFeatures"
   ]
  },
  {
   "cell_type": "code",
   "execution_count": 49,
   "metadata": {},
   "outputs": [],
   "source": [
    "def get_data_noisysine():\n",
    "    data = pd.read_csv(\"datasets/noisysine.csv\").values\n",
    "    points=[]\n",
    "    for d in data[:, 0] :\n",
    "        points.append(np.array([d]))\n",
    "    return np.array(points), data[:, 1]\n",
    "\n",
    "def get_data_hydrodynamics():\n",
    "    data = pd.read_csv(\"datasets/hydrodynamics.csv\").values\n",
    "    points=[]\n",
    "    for d in data[:, 0:-1] :\n",
    "        points.append(np.array(d))\n",
    "    return np.array(points), data[:, -1]\n",
    "\n",
    "\n",
    "def split_data(points, labels):\n",
    "    points_train, points_test, labels_train, labels_test = train_test_split(points, labels, train_size=0.8)  \n",
    "    return points_train, labels_train, points_test,  labels_test"
   ]
  },
  {
   "cell_type": "code",
   "execution_count": 50,
   "metadata": {},
   "outputs": [],
   "source": [
    "def plot(points, labels, w, degree):\n",
    "    matplotlib.rcParams['figure.figsize'] = [5, 5]\n",
    "    points_min = points.min() - 1\n",
    "    points_max = points.max() + 1\n",
    "    points_n = np.arange(points_min, points_max, 0.02).reshape(-1, 1)\n",
    "    labels_n = PolynomialFeatures(degree=degree).fit_transform(points_n) @ w\n",
    "    plt.scatter(points, labels)\n",
    "    plt.plot(points_n, labels_n, color='blue')\n",
    "    plt.xticks(())\n",
    "    plt.yticks(())\n",
    "    plt.show()"
   ]
  },
  {
   "cell_type": "code",
   "execution_count": 51,
   "metadata": {},
   "outputs": [],
   "source": [
    "def inv(x, y, a):\n",
    "    return np.linalg.inv(np.transpose(x) @ x + a *np.identity(x.shape[1])) @ np.transpose(x) @ y\n",
    "\n",
    "def h(w, x, degree):\n",
    "    return PolynomialFeatures(degree=degree).fit_transform(x) @ w\n",
    "    \n",
    "def polynomial_regression(points_train, labels_train, points_test,  labels_test,degree, a):\n",
    "    points_train_f = PolynomialFeatures(degree=degree).fit_transform(points_train)\n",
    "    w = inv(points_train_f, labels_train, a)\n",
    "    labels_test_n = h(w, points_test, degree)\n",
    "    score  = 1 - (np.sum((labels_test_n - labels_test) ** 2)) / (np.sum((labels_test - np.mean(labels_test)) ** 2))\n",
    "    return w, score\n",
    "\n",
    "def optimize(points_train, labels_train, points_test,  labels_test, degree):\n",
    "    max_w = None\n",
    "    max_score = None\n",
    "    max_a = None\n",
    "    for i in range(10):\n",
    "        a = 10 ** (-i)\n",
    "        w, score = polynomial_regression(points_train, labels_train, points_test,  labels_test, degree, a)\n",
    "        if max_score is None or score > max_score:\n",
    "            max_w = w\n",
    "            max_score = score\n",
    "            max_alpha = a\n",
    "    return max_w, max_score, max_alpha"
   ]
  },
  {
   "cell_type": "code",
   "execution_count": null,
   "metadata": {},
   "outputs": [],
   "source": [
    "points, labels = get_data_noisysine()\n",
    "points_train, labels_train, points_test,  labels_test = split_data(points, labels)\n",
    "for d in [1, 2,3 , 4, 5]:\n",
    "    w, score, a = optimize(points_train, labels_train, points_test,  labels_test, d)\n",
    "    print(str(d) + \"(alpha=\" + str(a) + \"): \" + str(score))\n",
    "    plot(points, labels, w, d)"
   ]
  },
  {
   "cell_type": "code",
   "execution_count": 47,
   "metadata": {},
   "outputs": [
    {
     "name": "stdout",
     "output_type": "stream",
     "text": [
      "1(alpha=0.1): 0.5999693646340136\n",
      "2(alpha=0.001): 0.8942284961725057\n"
     ]
    },
    {
     "name": "stderr",
     "output_type": "stream",
     "text": [
      "/usr/local/lib/python3.7/site-packages/sklearn/model_selection/_split.py:2179: FutureWarning: From version 0.21, test_size will always complement train_size unless both are specified.\n",
      "  FutureWarning)\n"
     ]
    }
   ],
   "source": [
    "points, labels = get_data_hydrodynamics()\n",
    "points_train, labels_train, points_test,  labels_test = split_data(points, labels)\n",
    "for d in [1, 2]:\n",
    "    w, score, a= optimize(points_train, labels_train, points_test,  labels_test, d)\n",
    "    print(str(d) + \"(alpha=\" + str(a) + \"): \" + str(score))"
   ]
  },
  {
   "cell_type": "code",
   "execution_count": null,
   "metadata": {},
   "outputs": [],
   "source": []
  }
 ],
 "metadata": {
  "kernelspec": {
   "display_name": "Python 3",
   "language": "python",
   "name": "python3"
  },
  "language_info": {
   "codemirror_mode": {
    "name": "ipython",
    "version": 3
   },
   "file_extension": ".py",
   "mimetype": "text/x-python",
   "name": "python",
   "nbconvert_exporter": "python",
   "pygments_lexer": "ipython3",
   "version": "3.7.3"
  }
 },
 "nbformat": 4,
 "nbformat_minor": 2
}
