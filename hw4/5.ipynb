{
 "cells": [
  {
   "cell_type": "code",
   "execution_count": 27,
   "metadata": {},
   "outputs": [],
   "source": [
    "import pandas as pd\n",
    "from sklearn import svm\n",
    "import numpy as np\n",
    "from time import time\n",
    "import matplotlib.pyplot as plt\n",
    "import matplotlib\n",
    "import csv\n",
    "from sklearn.model_selection import train_test_split\n",
    "from sklearn.ensemble import RandomForestClassifier\n",
    "import nltk\n",
    "from nltk.stem import PorterStemmer\n",
    "from nltk.tokenize import word_tokenize\n",
    "from sklearn.preprocessing import PolynomialFeatures\n",
    "from sklearn.linear_model import Lasso\n",
    "from scipy.spatial.distance import cityblock"
   ]
  },
  {
   "cell_type": "code",
   "execution_count": 28,
   "metadata": {},
   "outputs": [],
   "source": [
    "def get_data_tsp():\n",
    "    data = pd.read_csv(\"datasets/tsp.csv\").values\n",
    "    return data[:, 1:]"
   ]
  },
  {
   "cell_type": "code",
   "execution_count": 29,
   "metadata": {},
   "outputs": [],
   "source": [
    "def f(arr):\n",
    "    s = 0;\n",
    "    for i in range(len(arr) - 1):\n",
    "        s+=cityblock(arr[i], arr[i + 1])\n",
    "    return s"
   ]
  },
  {
   "cell_type": "code",
   "execution_count": 30,
   "metadata": {},
   "outputs": [],
   "source": [
    "def plot(arr):\n",
    "    path = []\n",
    "    for i in range(2 * len(arr) - 1):\n",
    "        path.append([arr[i // 2][0], arr[i // 2 + i % 2][1]])\n",
    "    path = np.array(path)\n",
    "    plt.plot(path[:, 0], path[:, 1])\n",
    "    plt.scatter(arr[:, 0], arr[:, 1])\n",
    "    plt.show()"
   ]
  },
  {
   "cell_type": "code",
   "execution_count": 31,
   "metadata": {},
   "outputs": [],
   "source": [
    "def random_walk123(points):\n",
    "    np.random.shuffle(points)\n",
    "    cur = []\n",
    "    for point in points:\n",
    "        cur.append(point)\n",
    "    cur = np.array(cur)\n",
    "    for i in range(10000):\n",
    "        i, j = np.random.randint(len(points)), np.random.randint(len(points))\n",
    "        ci = []\n",
    "        cj = []\n",
    "        for i1 in range(0, len(cur[i])):\n",
    "            ci.append(cur[i][i1])\n",
    "        ci = np.array(ci)\n",
    "        for j1 in range(0, len(cur[j])):\n",
    "            cj.append(cur[j][j1])\n",
    "        cj = np.array(cj)\n",
    "        cur[i] = cj\n",
    "        cur[j] = ci\n",
    "    return cur, f(cur)\n"
   ]
  },
  {
   "cell_type": "code",
   "execution_count": 40,
   "metadata": {},
   "outputs": [],
   "source": [
    "def random_walk(points):\n",
    "    result, min_len = None, None\n",
    "    for iter in range(10000):\n",
    "        path = []\n",
    "        nv = []\n",
    "        for i in range(len(points)):\n",
    "            nv.append(i)\n",
    "            \n",
    "        for i in range(len(points) - 1, 0, -1):\n",
    "            j = int(np.random.uniform(0, i + 1))\n",
    "            x = nv[j]\n",
    "            path.append(x)\n",
    "            del nv[j]\n",
    "        length = f(points[path])\n",
    "        if min_len is None \\\n",
    "        or length < min_len:\n",
    "            min_len = length\n",
    "            result = path\n",
    "    return points[path], min_length"
   ]
  },
  {
   "cell_type": "code",
   "execution_count": 41,
   "metadata": {},
   "outputs": [
    {
     "ename": "NameError",
     "evalue": "name 'min_length' is not defined",
     "output_type": "error",
     "traceback": [
      "\u001b[0;31m---------------------------------------------------------------------------\u001b[0m",
      "\u001b[0;31mNameError\u001b[0m                                 Traceback (most recent call last)",
      "\u001b[0;32m<ipython-input-41-bb4649b2cf5a>\u001b[0m in \u001b[0;36m<module>\u001b[0;34m\u001b[0m\n\u001b[1;32m      1\u001b[0m \u001b[0mpoints\u001b[0m \u001b[0;34m=\u001b[0m \u001b[0mget_data_tsp\u001b[0m\u001b[0;34m(\u001b[0m\u001b[0;34m)\u001b[0m\u001b[0;34m\u001b[0m\u001b[0;34m\u001b[0m\u001b[0m\n\u001b[0;32m----> 2\u001b[0;31m \u001b[0mpath\u001b[0m\u001b[0;34m,\u001b[0m \u001b[0mpath_len\u001b[0m \u001b[0;34m=\u001b[0m \u001b[0mrandom_walk\u001b[0m\u001b[0;34m(\u001b[0m\u001b[0mpoints\u001b[0m\u001b[0;34m)\u001b[0m\u001b[0;34m\u001b[0m\u001b[0;34m\u001b[0m\u001b[0m\n\u001b[0m\u001b[1;32m      3\u001b[0m \u001b[0mplot\u001b[0m\u001b[0;34m(\u001b[0m\u001b[0mpath\u001b[0m\u001b[0;34m)\u001b[0m\u001b[0;34m\u001b[0m\u001b[0;34m\u001b[0m\u001b[0m\n\u001b[1;32m      4\u001b[0m \u001b[0mprint\u001b[0m\u001b[0;34m(\u001b[0m\u001b[0mpath_len\u001b[0m\u001b[0;34m)\u001b[0m\u001b[0;34m\u001b[0m\u001b[0;34m\u001b[0m\u001b[0m\n",
      "\u001b[0;32m<ipython-input-40-6ccf3315d56f>\u001b[0m in \u001b[0;36mrandom_walk\u001b[0;34m(points)\u001b[0m\n\u001b[1;32m     16\u001b[0m             \u001b[0mmin_len\u001b[0m \u001b[0;34m=\u001b[0m \u001b[0mlength\u001b[0m\u001b[0;34m\u001b[0m\u001b[0;34m\u001b[0m\u001b[0m\n\u001b[1;32m     17\u001b[0m             \u001b[0mresult\u001b[0m \u001b[0;34m=\u001b[0m \u001b[0mpath\u001b[0m\u001b[0;34m\u001b[0m\u001b[0;34m\u001b[0m\u001b[0m\n\u001b[0;32m---> 18\u001b[0;31m     \u001b[0;32mreturn\u001b[0m \u001b[0mpoints\u001b[0m\u001b[0;34m[\u001b[0m\u001b[0mpath\u001b[0m\u001b[0;34m]\u001b[0m\u001b[0;34m,\u001b[0m \u001b[0mmin_length\u001b[0m\u001b[0;34m\u001b[0m\u001b[0;34m\u001b[0m\u001b[0m\n\u001b[0m",
      "\u001b[0;31mNameError\u001b[0m: name 'min_length' is not defined"
     ]
    }
   ],
   "source": [
    "points = get_data_tsp()\n",
    "path, path_len = random_walk(points)\n",
    "plot(path)\n",
    "print(path_len)"
   ]
  },
  {
   "cell_type": "code",
   "execution_count": null,
   "metadata": {},
   "outputs": [],
   "source": []
  },
  {
   "cell_type": "code",
   "execution_count": null,
   "metadata": {},
   "outputs": [],
   "source": []
  }
 ],
 "metadata": {
  "kernelspec": {
   "display_name": "Python 3",
   "language": "python",
   "name": "python3"
  },
  "language_info": {
   "codemirror_mode": {
    "name": "ipython",
    "version": 3
   },
   "file_extension": ".py",
   "mimetype": "text/x-python",
   "name": "python",
   "nbconvert_exporter": "python",
   "pygments_lexer": "ipython3",
   "version": "3.7.3"
  }
 },
 "nbformat": 4,
 "nbformat_minor": 2
}
