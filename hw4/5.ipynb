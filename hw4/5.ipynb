{
 "cells": [
  {
   "cell_type": "code",
   "execution_count": 47,
   "metadata": {},
   "outputs": [],
   "source": [
    "import pandas as pd\n",
    "from sklearn import svm\n",
    "import numpy as np\n",
    "from time import time\n",
    "import matplotlib.pyplot as plt\n",
    "import matplotlib\n",
    "import csv\n",
    "from sklearn.model_selection import train_test_split\n",
    "from sklearn.ensemble import RandomForestClassifier\n",
    "import nltk\n",
    "from nltk.stem import PorterStemmer\n",
    "from nltk.tokenize import word_tokenize\n",
    "from sklearn.preprocessing import PolynomialFeatures\n",
    "from sklearn.linear_model import Lasso\n",
    "from scipy.spatial.distance import cityblock"
   ]
  },
  {
   "cell_type": "code",
   "execution_count": 48,
   "metadata": {},
   "outputs": [],
   "source": [
    "def get_data_tsp():\n",
    "    data = pd.read_csv(\"datasets/tsp.csv\").values\n",
    "    return data[:, 1:]"
   ]
  },
  {
   "cell_type": "code",
   "execution_count": 49,
   "metadata": {},
   "outputs": [],
   "source": [
    "def f(arr):\n",
    "    s = 0;\n",
    "    for i in range(len(arr) - 1):\n",
    "        s+=cityblock(arr[i], arr[i + 1])\n",
    "    return s"
   ]
  },
  {
   "cell_type": "code",
   "execution_count": 50,
   "metadata": {},
   "outputs": [],
   "source": [
    "def plot(arr):\n",
    "    path = []\n",
    "    for i in range(2 * len(arr) - 1):\n",
    "        path.append([arr[i // 2][0], arr[i // 2 + i % 2][1]])\n",
    "    path = np.array(path)\n",
    "    plt.plot(path[:, 0], path[:, 1])\n",
    "    plt.scatter(arr[:, 0], arr[:, 1])\n",
    "    plt.show()"
   ]
  },
  {
   "cell_type": "code",
   "execution_count": 51,
   "metadata": {},
   "outputs": [],
   "source": [
    "def random_walk123(points):\n",
    "    np.random.shuffle(points)\n",
    "    cur = []\n",
    "    for point in points:\n",
    "        cur.append(point)\n",
    "    cur = np.array(cur)\n",
    "    for i in range(10000):\n",
    "        i, j = np.random.randint(len(points)), np.random.randint(len(points))\n",
    "        ci = []\n",
    "        cj = []\n",
    "        for i1 in range(0, len(cur[i])):\n",
    "            ci.append(cur[i][i1])\n",
    "        ci = np.array(ci)\n",
    "        for j1 in range(0, len(cur[j])):\n",
    "            cj.append(cur[j][j1])\n",
    "        cj = np.array(cj)\n",
    "        cur[i] = cj\n",
    "        cur[j] = ci\n",
    "    return cur, f(cur)\n"
   ]
  },
  {
   "cell_type": "code",
   "execution_count": 52,
   "metadata": {},
   "outputs": [],
   "source": [
    "def random_walk(points):\n",
    "    result, min_len = None, None\n",
    "    for iter in range(10000):\n",
    "        path = []\n",
    "        nv = []\n",
    "        for i in range(len(points)):\n",
    "            nv.append(i)\n",
    "        for i in range(len(points) - 1, 0, -1):\n",
    "            j = int(np.random.uniform(0, i + 1))\n",
    "            x = nv[j]\n",
    "            path.append(x)\n",
    "            del nv[j]\n",
    "        length = f(points[path])\n",
    "        if min_len is None \\\n",
    "        or length < min_len:\n",
    "            min_len = length\n",
    "            result = path\n",
    "    return points[path], min_len"
   ]
  },
  {
   "cell_type": "code",
   "execution_count": 53,
   "metadata": {},
   "outputs": [
    {
     "data": {
      "image/png": "[encoded data removed]",
      "text/plain": [
       "<Figure size 432x288 with 1 Axes>"
      ]
     },
     "metadata": {
      "needs_background": "light"
     },
     "output_type": "display_data"
    },
    {
     "name": "stdout",
     "output_type": "stream",
     "text": [
      "28380\n"
     ]
    }
   ],
   "source": [
    "points = get_data_tsp()\n",
    "path, path_len = random_walk(points)\n",
    "plot(path)\n",
    "print(path_len)"
   ]
  },
  {
   "cell_type": "code",
   "execution_count": null,
   "metadata": {},
   "outputs": [],
   "source": []
  },
  {
   "cell_type": "code",
   "execution_count": null,
   "metadata": {},
   "outputs": [],
   "source": []
  }
 ],
 "metadata": {
  "kernelspec": {
   "display_name": "Python 3",
   "language": "python",
   "name": "python3"
  },
  "language_info": {
   "codemirror_mode": {
    "name": "ipython",
    "version": 3
   },
   "file_extension": ".py",
   "mimetype": "text/x-python",
   "name": "python",
   "nbconvert_exporter": "python",
   "pygments_lexer": "ipython3",
   "version": "3.7.3"
  }
 },
 "nbformat": 4,
 "nbformat_minor": 2
}
