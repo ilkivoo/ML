{
 "cells": [
  {
   "cell_type": "code",
   "execution_count": 73,
   "metadata": {},
   "outputs": [],
   "source": [
    "import pandas as pd\n",
    "from sklearn import svm\n",
    "import numpy as np\n",
    "from time import time\n",
    "import matplotlib.pyplot as plt\n",
    "import matplotlib\n",
    "import csv\n",
    "from sklearn.model_selection import train_test_split\n",
    "from sklearn.ensemble import RandomForestClassifier\n",
    "import nltk\n",
    "from nltk.stem import PorterStemmer\n",
    "from nltk.tokenize import word_tokenize\n",
    "from sklearn.preprocessing import PolynomialFeatures\n",
    "from sklearn.linear_model import Lasso\n",
    "from scipy.spatial.distance import cityblock"
   ]
  },
  {
   "cell_type": "code",
   "execution_count": 74,
   "metadata": {},
   "outputs": [],
   "source": [
    "def get_data_tsp():\n",
    "    data = pd.read_csv(\"datasets/tsp.csv\").values\n",
    "    return data[:, 1:]"
   ]
  },
  {
   "cell_type": "code",
   "execution_count": 75,
   "metadata": {},
   "outputs": [],
   "source": [
    "def f(arr):\n",
    "    s = 0;\n",
    "    for i in range(len(arr) - 1):\n",
    "        s+=cityblock(arr[i], arr[i + 1])\n",
    "    return s"
   ]
  },
  {
   "cell_type": "code",
   "execution_count": 76,
   "metadata": {},
   "outputs": [],
   "source": [
    "def plot(arr):\n",
    "    path = []\n",
    "    for i in range(2 * len(arr) - 1):\n",
    "        path.append([arr[i // 2][0], arr[i // 2 + i % 2][1]])\n",
    "    path = np.array(path)\n",
    "    plt.plot(path[:, 0], path[:, 1])\n",
    "    plt.scatter(arr[:, 0], arr[:, 1])\n",
    "    plt.show()"
   ]
  },
  {
   "cell_type": "code",
   "execution_count": 77,
   "metadata": {},
   "outputs": [],
   "source": [
    "def hill_climb(points):\n",
    "    path_glob, min_len_glob = None, None\n",
    "    np.random.shuffle(points)    \n",
    "    for it in range(10000):\n",
    "        path, min_len = None, None\n",
    "        j = int(np.random.uniform(0, len(points)))\n",
    "        for i in range(points.shape[0]):\n",
    "            if i == j:\n",
    "                continue\n",
    "            cur = []\n",
    "            for k in range(len(points)):\n",
    "                cur.append(points[k])\n",
    "            cur = np.array(cur)\n",
    "            cur[[j, i]] = cur[[i, j]]\n",
    "            length = f(cur)\n",
    "            if min_len is None \\\n",
    "            or length < min_len:\n",
    "                path = cur\n",
    "                min_len = length\n",
    "        if min_len_glob is None \\\n",
    "            or min_len < min_len_glob:\n",
    "                path_glob = path\n",
    "                min_len_glob = min_len\n",
    "    return path_glob, min_len_glob\n",
    "    "
   ]
  },
  {
   "cell_type": "code",
   "execution_count": null,
   "metadata": {},
   "outputs": [],
   "source": [
    "points = get_data_tsp()\n",
    "path, length = hill_climb(points)\n",
    "plot(path)\n",
    "print(length)"
   ]
  },
  {
   "cell_type": "code",
   "execution_count": null,
   "metadata": {},
   "outputs": [],
   "source": []
  },
  {
   "cell_type": "code",
   "execution_count": null,
   "metadata": {},
   "outputs": [],
   "source": []
  }
 ],
 "metadata": {
  "kernelspec": {
   "display_name": "Python 3",
   "language": "python",
   "name": "python3"
  },
  "language_info": {
   "codemirror_mode": {
    "name": "ipython",
    "version": 3
   },
   "file_extension": ".py",
   "mimetype": "text/x-python",
   "name": "python",
   "nbconvert_exporter": "python",
   "pygments_lexer": "ipython3",
   "version": "3.7.3"
  }
 },
 "nbformat": 4,
 "nbformat_minor": 2
}
