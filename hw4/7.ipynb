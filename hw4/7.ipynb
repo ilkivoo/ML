{
 "cells": [
  {
   "cell_type": "code",
   "execution_count": 27,
   "metadata": {},
   "outputs": [],
   "source": [
    "import pandas as pd\n",
    "from sklearn import svm\n",
    "import numpy as np\n",
    "from time import time\n",
    "import matplotlib.pyplot as plt\n",
    "import matplotlib\n",
    "import csv\n",
    "from sklearn.model_selection import train_test_split\n",
    "from sklearn.ensemble import RandomForestClassifier\n",
    "import nltk\n",
    "from nltk.stem import PorterStemmer\n",
    "from nltk.tokenize import word_tokenize\n",
    "from sklearn.preprocessing import PolynomialFeatures\n",
    "from sklearn.linear_model import Lasso\n",
    "from scipy.spatial.distance import cityblock\n",
    "from scipy.special import softmax"
   ]
  },
  {
   "cell_type": "code",
   "execution_count": 28,
   "metadata": {},
   "outputs": [],
   "source": [
    "def get_data_tsp():\n",
    "    data = pd.read_csv(\"datasets/tsp.csv\").values\n",
    "    return data[:, 1:]"
   ]
  },
  {
   "cell_type": "code",
   "execution_count": 29,
   "metadata": {},
   "outputs": [],
   "source": [
    "def f(arr):\n",
    "    s = 0;\n",
    "    for i in range(len(arr) - 1):\n",
    "        s+=cityblock(arr[i], arr[i + 1])\n",
    "    return s"
   ]
  },
  {
   "cell_type": "code",
   "execution_count": 30,
   "metadata": {},
   "outputs": [],
   "source": [
    "def plot(arr):\n",
    "    path = []\n",
    "    for i in range(2 * len(arr) - 1):\n",
    "        path.append([arr[i // 2][0], arr[i // 2 + i % 2][1]])\n",
    "    path = np.array(path)\n",
    "    plt.plot(path[:, 0], path[:, 1])\n",
    "    plt.scatter(arr[:, 0], arr[:, 1])\n",
    "    plt.show()"
   ]
  },
  {
   "cell_type": "code",
   "execution_count": 31,
   "metadata": {},
   "outputs": [],
   "source": [
    "def simulated_annealing(points):\n",
    "    maxt = 1000\n",
    "    mint = 0.001\n",
    "    path_global = []\n",
    "    for i in range(len(points)):\n",
    "        path_global.append(points[i])\n",
    "    path_global = np.array(path_global)\n",
    "    min_len_global = f(path_global)\n",
    "    np.random.shuffle(path_global)    \n",
    "    for it in range(1000):\n",
    "        j = int(np.random.uniform(0, len(points)))\n",
    "        path = []\n",
    "        for i in range(points.shape[0]):\n",
    "            if i == j:\n",
    "                continue\n",
    "            cur = []\n",
    "            for k in range(len(path_global)):\n",
    "                cur.append(path_global[k])\n",
    "            cur = np.array(cur)\n",
    "            cur[[j, i]] = cur[[i, j]]\n",
    "            path.append(cur)\n",
    "        t = maxt - (maxt - mint) * it / 1000\n",
    "        d = np.array([(min_len_global - f(path[i])) for i in range(len(path))])\n",
    "        path_global = path[np.random.choice(len(path), p=softmax(d / t))]\n",
    "        min_len_global = f(path_global)\n",
    "           \n",
    "    return path_global, min_len_global\n",
    "    "
   ]
  },
  {
   "cell_type": "code",
   "execution_count": 33,
   "metadata": {},
   "outputs": [
    {
     "data": {
      "image/png": "[encoded data removed]",
      "text/plain": [
       "<Figure size 432x288 with 1 Axes>"
      ]
     },
     "metadata": {
      "needs_background": "light"
     },
     "output_type": "display_data"
    },
    {
     "name": "stdout",
     "output_type": "stream",
     "text": [
      "12105\n"
     ]
    }
   ],
   "source": [
    "points = get_data_tsp()\n",
    "path, length= simulated_annealing(points)\n",
    "plot(path)\n",
    "print(length)"
   ]
  },
  {
   "cell_type": "code",
   "execution_count": null,
   "metadata": {},
   "outputs": [],
   "source": []
  }
 ],
 "metadata": {
  "kernelspec": {
   "display_name": "Python 3",
   "language": "python",
   "name": "python3"
  },
  "language_info": {
   "codemirror_mode": {
    "name": "ipython",
    "version": 3
   },
   "file_extension": ".py",
   "mimetype": "text/x-python",
   "name": "python",
   "nbconvert_exporter": "python",
   "pygments_lexer": "ipython3",
   "version": "3.7.3"
  }
 },
 "nbformat": 4,
 "nbformat_minor": 2
}
