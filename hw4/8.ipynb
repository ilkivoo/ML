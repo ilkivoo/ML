{
 "cells": [
  {
   "cell_type": "code",
   "execution_count": 119,
   "metadata": {},
   "outputs": [],
   "source": [
    "import pandas as pd\n",
    "from sklearn import svm\n",
    "import numpy as np\n",
    "from time import time\n",
    "import matplotlib.pyplot as plt\n",
    "import matplotlib\n",
    "import csv\n",
    "from sklearn.model_selection import train_test_split\n",
    "from sklearn.ensemble import RandomForestClassifier\n",
    "import nltk\n",
    "from nltk.stem import PorterStemmer\n",
    "from nltk.tokenize import word_tokenize\n",
    "from sklearn.preprocessing import PolynomialFeatures\n",
    "from sklearn.linear_model import Lasso\n",
    "from scipy.spatial.distance import cityblock\n",
    "from scipy.special import softmax"
   ]
  },
  {
   "cell_type": "code",
   "execution_count": 120,
   "metadata": {},
   "outputs": [],
   "source": [
    "def get_data_tsp():\n",
    "    data = pd.read_csv(\"datasets/tsp.csv\").values\n",
    "    return data[:, 1:]"
   ]
  },
  {
   "cell_type": "code",
   "execution_count": 121,
   "metadata": {},
   "outputs": [],
   "source": [
    "def f(arr):\n",
    "    s = 0;\n",
    "    for i in range(len(arr) - 1):\n",
    "        s+=cityblock(arr[i], arr[i + 1])\n",
    "    return s"
   ]
  },
  {
   "cell_type": "code",
   "execution_count": 122,
   "metadata": {},
   "outputs": [],
   "source": [
    "def plot(arr):\n",
    "    path = []\n",
    "    for i in range(2 * len(arr) - 1):\n",
    "        path.append([arr[i // 2][0], arr[i // 2 + i % 2][1]])\n",
    "    path = np.array(path)\n",
    "    plt.plot(path[:, 0], path[:, 1])\n",
    "    plt.scatter(arr[:, 0], arr[:, 1])\n",
    "    plt.show()"
   ]
  },
  {
   "cell_type": "code",
   "execution_count": 123,
   "metadata": {},
   "outputs": [],
   "source": [
    "def crossover(a, b):\n",
    "    ind = np.random.randint(len(a))\n",
    "    pa, pb = [], []\n",
    "    for i in range(len(b)):\n",
    "        for y in a[ind:]:\n",
    "            if (np.array_equal(b[i], y)):\n",
    "                pa.append(b[i].copy())\n",
    "    for i in range(len(a)):\n",
    "        for y in b[ind:]:\n",
    "            if (np.array_equal(a[i], y)):\n",
    "                pb.append(a[i].copy())\n",
    "    for i in range(len(a)-ind):\n",
    "        a[ind+i] = pa[i].copy()\n",
    "    for i in range(len(b)-ind):\n",
    "        b[ind+i] = pb[i].copy()\n",
    "    return a, b\n",
    "\n",
    "def mutate(point):\n",
    "    i = range(len(point))\n",
    "    if (np.random.uniform() < 0.05):\n",
    "        v1, v2 = np.random.choice(range(len(point)), 2)\n",
    "        start = min(v1, v2)\n",
    "        end = max(v1, v2)\n",
    "        point[start: end] = point[start: end][::-1]\n",
    "    return point\n",
    "    \n",
    "\n",
    "def genetic(points):\n",
    "    population = np.array([np.random.permutation(points) for i in range(30)])\n",
    "    lengths = np.array([f(population[i]) for i in range(30)])\n",
    "    for i in range(10000):\n",
    "        order = np.argsort(lengths)\n",
    "        p1, p2 = crossover(population[order[0]], population[order[1]])\n",
    "        p1, p2 = mutate(p1), mutate(p2)\n",
    "        population[order[-1]],population[order[-2]] = p1, p2\n",
    "        lengths = np.array([f(population[i]) for i in range(30)])\n",
    "    order = np.argsort(lengths)\n",
    "    return population[order[0]], lengths[order[0]]"
   ]
  },
  {
   "cell_type": "code",
   "execution_count": null,
   "metadata": {},
   "outputs": [],
   "source": [
    "points = get_data_tsp()\n",
    "path, length= genetic(points)\n",
    "plot(path)\n",
    "print(length)"
   ]
  },
  {
   "cell_type": "code",
   "execution_count": null,
   "metadata": {},
   "outputs": [],
   "source": []
  },
  {
   "cell_type": "code",
   "execution_count": null,
   "metadata": {},
   "outputs": [],
   "source": []
  }
 ],
 "metadata": {
  "kernelspec": {
   "display_name": "Python 3",
   "language": "python",
   "name": "python3"
  },
  "language_info": {
   "codemirror_mode": {
    "name": "ipython",
    "version": 3
   },
   "file_extension": ".py",
   "mimetype": "text/x-python",
   "name": "python",
   "nbconvert_exporter": "python",
   "pygments_lexer": "ipython3",
   "version": "3.7.3"
  }
 },
 "nbformat": 4,
 "nbformat_minor": 2
}
